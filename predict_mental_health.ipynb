{
  "nbformat": 4,
  "nbformat_minor": 0,
  "metadata": {
    "colab": {
      "provenance": []
    },
    "kernelspec": {
      "name": "python3",
      "display_name": "Python 3"
    },
    "language_info": {
      "name": "python"
    }
  },
  "cells": [
    {
      "cell_type": "code",
      "execution_count": null,
      "metadata": {
        "id": "LkknQE7JJj15"
      },
      "outputs": [],
      "source": [
        "import os\n",
        "import shutil\n",
        "\n",
        "# Create .kaggle directory if it doesn't exist\n",
        "os.makedirs(\"/root/.kaggle\", exist_ok=True)\n",
        "\n",
        "# Move kaggle.json to the correct directory\n",
        "shutil.move(\"/content/kaggle.json\", \"/root/.kaggle/kaggle.json\")\n",
        "\n",
        "# Set permissions to secure the file\n",
        "os.chmod(\"/root/.kaggle/kaggle.json\", 600)\n",
        "\n",
        "# Verify by listing datasets\n",
        "!kaggle datasets list | head -n 10\n"
      ]
    },
    {
      "cell_type": "code",
      "source": [
        "!pip install -q kaggle\n",
        "\n",
        "# Verify Kaggle authentication\n",
        "!kaggle datasets list | head -n 10\n",
        "\n"
      ],
      "metadata": {
        "id": "lnlocyckKIw6"
      },
      "execution_count": null,
      "outputs": []
    },
    {
      "cell_type": "code",
      "source": [
        "!kaggle datasets download -d shahzadahmad0402/depression-and-anxiety-data\n"
      ],
      "metadata": {
        "id": "CDvEm9vZKPS-"
      },
      "execution_count": null,
      "outputs": []
    },
    {
      "cell_type": "code",
      "source": [
        "import zipfile\n",
        "\n",
        "# Unzip the downloaded file\n",
        "!unzip -q depression-and-anxiety-data.zip\n"
      ],
      "metadata": {
        "id": "bMa1tvfkKUmN"
      },
      "execution_count": null,
      "outputs": []
    },
    {
      "cell_type": "code",
      "source": [
        "import os\n",
        "\n",
        "# List all files in the current directory\n",
        "os.listdir()\n"
      ],
      "metadata": {
        "id": "iQbIfD6iKXUq"
      },
      "execution_count": null,
      "outputs": []
    },
    {
      "cell_type": "code",
      "source": [
        "import pandas as pd\n",
        "\n",
        "# Replace 'your_file.csv' with the actual CSV filename\n",
        "df = pd.read_csv(\"depression_anxiety_data.csv\")\n",
        "\n",
        "# Display first 5 rows\n",
        "df.head()\n"
      ],
      "metadata": {
        "id": "JbSb7AtlKZPT"
      },
      "execution_count": null,
      "outputs": []
    },
    {
      "cell_type": "code",
      "source": [
        "# Get dataset information\n",
        "df.info()\n",
        "\n",
        "# Check missing values\n",
        "df.isnull().sum()\n"
      ],
      "metadata": {
        "id": "T1paoY-jKbg5"
      },
      "execution_count": null,
      "outputs": []
    },
    {
      "cell_type": "code",
      "source": [
        "# Fill missing categorical values with mode\n",
        "categorical_cols = ['depression_severity', 'depressiveness', 'suicidal',\n",
        "                    'depression_diagnosis', 'depression_treatment', 'anxiousness',\n",
        "                    'anxiety_diagnosis', 'anxiety_treatment', 'sleepiness']\n",
        "\n",
        "for col in categorical_cols:\n",
        "    df[col].fillna(df[col].mode()[0], inplace=True)\n"
      ],
      "metadata": {
        "id": "ODdKv43AKdpR"
      },
      "execution_count": null,
      "outputs": []
    },
    {
      "cell_type": "code",
      "source": [
        "# Fill missing categorical values with mode\n",
        "categorical_cols = ['depression_severity', 'depressiveness', 'suicidal',\n",
        "                    'depression_diagnosis', 'depression_treatment', 'anxiousness',\n",
        "                    'anxiety_diagnosis', 'anxiety_treatment', 'sleepiness']\n",
        "\n",
        "df[categorical_cols] = df[categorical_cols].apply(lambda x: x.fillna(x.mode()[0]))\n"
      ],
      "metadata": {
        "id": "zMKHH0QbKf92"
      },
      "execution_count": null,
      "outputs": []
    },
    {
      "cell_type": "code",
      "source": [
        "# Fill missing numerical values with median\n",
        "numerical_cols = ['epworth_score']\n",
        "df[numerical_cols] = df[numerical_cols].apply(lambda x: x.fillna(x.median()))\n"
      ],
      "metadata": {
        "id": "K4vxszdVKh5u"
      },
      "execution_count": null,
      "outputs": []
    },
    {
      "cell_type": "code",
      "source": [
        "# Check if any missing values remain\n",
        "print(df.isnull().sum())\n"
      ],
      "metadata": {
        "id": "X5y92bJkKki1"
      },
      "execution_count": null,
      "outputs": []
    },
    {
      "cell_type": "code",
      "source": [
        "# Normalize text columns: convert to lowercase and strip spaces\n",
        "text_cols = ['gender', 'who_bmi', 'depression_severity', 'depressiveness',\n",
        "             'suicidal', 'depression_diagnosis', 'depression_treatment',\n",
        "             'anxiety_severity', 'anxiousness', 'anxiety_diagnosis',\n",
        "             'anxiety_treatment', 'sleepiness']\n",
        "\n",
        "df[text_cols] = df[text_cols].apply(lambda x: x.str.lower().str.strip())\n"
      ],
      "metadata": {
        "id": "1_XlRWPFKmzd"
      },
      "execution_count": null,
      "outputs": []
    },
    {
      "cell_type": "code",
      "source": [
        "# Convert non-string values to string and fill NaN values with 'unknown'\n",
        "df[text_cols] = df[text_cols].apply(lambda x: x.fillna('unknown').astype(str).str.lower().str.strip())\n"
      ],
      "metadata": {
        "id": "2Pe743hvKpUd"
      },
      "execution_count": null,
      "outputs": []
    },
    {
      "cell_type": "code",
      "source": [
        "# Check unique values for categorical columns\n",
        "for col in text_cols:\n",
        "    print(f\"{col}: {df[col].unique()}\")\n"
      ],
      "metadata": {
        "id": "ND0nXkcJKrpM"
      },
      "execution_count": null,
      "outputs": []
    },
    {
      "cell_type": "code",
      "source": [
        "# Binary encoding for boolean columns\n",
        "boolean_cols = ['depressiveness', 'suicidal', 'depression_diagnosis',\n",
        "                'depression_treatment', 'anxiousness', 'anxiety_diagnosis',\n",
        "                'anxiety_treatment', 'sleepiness']\n",
        "\n",
        "df[boolean_cols] = df[boolean_cols].apply(lambda x: x.map({'false': 0, 'true': 1}))\n"
      ],
      "metadata": {
        "id": "O8yRj9iJKwnT"
      },
      "execution_count": null,
      "outputs": []
    },
    {
      "cell_type": "code",
      "source": [
        "# Mapping ordinal columns to integers based on severity\n",
        "bmi_mapping = {\n",
        "    'underweight': 1,\n",
        "    'normal': 2,\n",
        "    'overweight': 3,\n",
        "    'class i obesity': 4,\n",
        "    'class ii obesity': 5,\n",
        "    'class iii obesity': 6,\n",
        "    'not availble': 0  # Treat 'not available' as 0\n",
        "}\n",
        "\n",
        "severity_mapping = {\n",
        "    'none-minimal': 0,\n",
        "    'mild': 1,\n",
        "    'moderate': 2,\n",
        "    'moderately severe': 3,\n",
        "    'severe': 4\n",
        "}\n",
        "\n",
        "# Apply the mappings\n",
        "df['who_bmi'] = df['who_bmi'].map(bmi_mapping)\n",
        "df['depression_severity'] = df['depression_severity'].map(severity_mapping)\n",
        "df['anxiety_severity'] = df['anxiety_severity'].map(severity_mapping)\n"
      ],
      "metadata": {
        "id": "ZOQmigg3KzqX"
      },
      "execution_count": null,
      "outputs": []
    },
    {
      "cell_type": "code",
      "source": [
        "# Correlation matrix for numerical features\n",
        "import seaborn as sns\n",
        "import matplotlib.pyplot as plt\n",
        "\n",
        "# Select numerical columns for correlation matrix\n",
        "numerical_cols = ['age', 'bmi', 'phq_score', 'gad_score', 'epworth_score']\n",
        "\n",
        "# Calculate correlation matrix\n",
        "correlation_matrix = df[numerical_cols].corr()\n",
        "\n",
        "# Plot heatmap of correlations\n",
        "plt.figure(figsize=(10, 6))\n",
        "sns.heatmap(correlation_matrix, annot=True, cmap='coolwarm', fmt=\".2f\")\n",
        "plt.title(\"Correlation Matrix\")\n",
        "plt.show()\n"
      ],
      "metadata": {
        "id": "NUGaC2ZPK1pW"
      },
      "execution_count": null,
      "outputs": []
    },
    {
      "cell_type": "code",
      "source": [
        "from sklearn.feature_selection import chi2\n",
        "from sklearn.preprocessing import LabelEncoder\n",
        "\n",
        "# Convert categorical target column to numeric (0/1 for binary classification)\n",
        "label_encoder = LabelEncoder()\n",
        "df['depression_diagnosis'] = label_encoder.fit_transform(df['depression_diagnosis'])\n",
        "\n",
        "# Convert categorical features into numeric using LabelEncoder\n",
        "categorical_cols = ['gender', 'who_bmi', 'depression_severity', 'depressiveness',\n",
        "                    'suicidal', 'depression_treatment', 'anxiety_severity',\n",
        "                    'anxiousness', 'anxiety_diagnosis', 'anxiety_treatment', 'sleepiness']\n",
        "\n",
        "for col in categorical_cols:\n",
        "    df[col] = label_encoder.fit_transform(df[col])\n",
        "\n",
        "# Create feature matrix X and target vector y\n",
        "X = df[categorical_cols]\n",
        "y = df['depression_diagnosis']\n",
        "\n",
        "# Apply chi-square test\n",
        "chi2_values, p_values = chi2(X, y)\n",
        "\n",
        "# Display results\n",
        "chi2_results = pd.DataFrame({\n",
        "    'Feature': categorical_cols,\n",
        "    'Chi2 Value': chi2_values,\n",
        "    'P Value': p_values\n",
        "})\n",
        "\n",
        "print(chi2_results)\n"
      ],
      "metadata": {
        "id": "4_HDhXqeK5Rj"
      },
      "execution_count": null,
      "outputs": []
    },
    {
      "cell_type": "code",
      "source": [
        "import matplotlib.pyplot as plt\n",
        "import seaborn as sns\n",
        "\n",
        "# 1. Summary Statistics for Numerical Data\n",
        "print(\"Summary Statistics for Numerical Columns\")\n",
        "print(df.describe())\n",
        "\n",
        "# 2. Distribution of Numerical Columns (e.g., age, BMI, scores)\n",
        "numerical_cols = ['age', 'bmi', 'phq_score', 'gad_score', 'epworth_score']\n",
        "plt.figure(figsize=(15, 10))\n",
        "for i, col in enumerate(numerical_cols, 1):\n",
        "    plt.subplot(2, 3, i)\n",
        "    sns.histplot(df[col], kde=True)\n",
        "    plt.title(f'{col} Distribution')\n",
        "plt.tight_layout()\n",
        "plt.show()\n",
        "\n",
        "# 3. Distribution of Categorical Data using Bar Plots\n",
        "categorical_cols = ['gender', 'who_bmi', 'depression_severity', 'depressiveness',\n",
        "                    'suicidal', 'depression_treatment', 'anxiety_severity',\n",
        "                    'anxiousness', 'anxiety_diagnosis', 'anxiety_treatment', 'sleepiness']\n",
        "\n",
        "plt.figure(figsize=(15, 12))\n",
        "for i, col in enumerate(categorical_cols, 1):\n",
        "    plt.subplot(3, 4, i)\n",
        "    sns.countplot(x=df[col])\n",
        "    plt.title(f'{col} Count Plot')\n",
        "    plt.xticks(rotation=45)\n",
        "plt.tight_layout()\n",
        "plt.show()\n",
        "\n",
        "# 4. Correlation Heatmap for Numerical Features\n",
        "correlation_matrix = df[numerical_cols].corr()\n",
        "plt.figure(figsize=(8, 6))\n",
        "sns.heatmap(correlation_matrix, annot=True, cmap='coolwarm', fmt='.2f', linewidths=0.5)\n",
        "plt.title(\"Correlation Heatmap for Numerical Features\")\n",
        "plt.show()\n",
        "\n",
        "# 5. Pairplot for Numerical Features (for relationship analysis)\n",
        "sns.pairplot(df[numerical_cols])\n",
        "plt.suptitle(\"Pairwise Relationships Between Numerical Features\", y=1.02)\n",
        "plt.show()\n",
        "\n",
        "# 6. Investigating Relationships Between Features (Depression Diagnosis vs. Other Features)\n",
        "plt.figure(figsize=(15, 8))\n",
        "sns.countplot(x='depression_diagnosis', hue='gender', data=df)\n",
        "plt.title('Depression Diagnosis vs Gender')\n",
        "plt.show()\n",
        "\n",
        "# Visualize relationship between depression severity and other features\n",
        "plt.figure(figsize=(15, 8))\n",
        "sns.countplot(x='depression_severity', hue='anxiety_severity', data=df)\n",
        "plt.title('Depression Severity vs Anxiety Severity')\n",
        "plt.show()\n",
        "\n"
      ],
      "metadata": {
        "id": "lB5ZQ0RnK5-0"
      },
      "execution_count": null,
      "outputs": []
    },
    {
      "cell_type": "code",
      "source": [
        "import pandas as pd\n",
        "import numpy as np\n",
        "from sklearn.model_selection import train_test_split\n",
        "from sklearn.preprocessing import LabelEncoder\n",
        "\n",
        "# Load dataset\n",
        "df = pd.read_csv(\"depression_anxiety_data.csv\")\n",
        "\n",
        "# Encode categorical features\n",
        "categorical_cols = ['gender', 'who_bmi', 'depression_severity', 'depressiveness',\n",
        "                    'suicidal', 'depression_treatment', 'anxiety_severity',\n",
        "                    'anxiousness', 'anxiety_diagnosis', 'anxiety_treatment', 'sleepiness']\n",
        "\n",
        "label_encoders = {}\n",
        "for col in categorical_cols:\n",
        "    le = LabelEncoder()\n",
        "    df[col] = le.fit_transform(df[col])\n",
        "    label_encoders[col] = le  # Store encoders for later use\n",
        "\n",
        "# Define target variable\n",
        "target = 'depression_diagnosis'  # You can change this to another mental health condition\n",
        "df[target] = LabelEncoder().fit_transform(df[target])\n",
        "\n",
        "# Split dataset\n",
        "X = df.drop(columns=['id', target])\n",
        "y = df[target]\n",
        "\n",
        "X_train, X_test, y_train, y_test = train_test_split(X, y, test_size=0.2, random_state=42)\n"
      ],
      "metadata": {
        "id": "f2SWB1HRLCWu"
      },
      "execution_count": null,
      "outputs": []
    },
    {
      "cell_type": "code",
      "source": [
        "from sklearn.ensemble import RandomForestClassifier\n",
        "from xgboost import XGBClassifier\n",
        "from sklearn.metrics import accuracy_score, classification_report, roc_auc_score\n",
        "\n",
        "# Train Random Forest Model\n",
        "rf_model = RandomForestClassifier(n_estimators=100, random_state=42)\n",
        "rf_model.fit(X_train, y_train)\n",
        "rf_preds = rf_model.predict(X_test)\n",
        "\n",
        "# Train XGBoost Model\n",
        "xgb_model = XGBClassifier(use_label_encoder=False, eval_metric=\"mlogloss\", random_state=42)\n",
        "xgb_model.fit(X_train, y_train)\n",
        "xgb_preds = xgb_model.predict(X_test)\n",
        "\n",
        "# Evaluate Models\n",
        "print(\"Random Forest Results:\")\n",
        "print(classification_report(y_test, rf_preds))\n",
        "print(\"ROC-AUC:\", roc_auc_score(y_test, rf_model.predict_proba(X_test), multi_class='ovr'))\n",
        "\n",
        "print(\"\\nXGBoost Results:\")\n",
        "print(classification_report(y_test, xgb_preds))\n",
        "print(\"ROC-AUC:\", roc_auc_score(y_test, xgb_model.predict_proba(X_test), multi_class='ovr'))\n"
      ],
      "metadata": {
        "id": "R6krldtOLDYo"
      },
      "execution_count": null,
      "outputs": []
    },
    {
      "cell_type": "code",
      "source": [
        "from sklearn.preprocessing import label_binarize\n",
        "\n",
        "# Binarize the labels for multi-class ROC-AUC calculation\n",
        "y_test_binarized = label_binarize(y_test, classes=np.unique(y_train))\n",
        "\n",
        "# Evaluate Models\n",
        "print(\"Random Forest Results:\")\n",
        "print(classification_report(y_test, rf_preds))\n",
        "print(\"ROC-AUC:\", roc_auc_score(y_test_binarized, rf_model.predict_proba(X_test), multi_class='ovr'))\n",
        "\n",
        "print(\"\\nXGBoost Results:\")\n",
        "print(classification_report(y_test, xgb_preds))\n",
        "print(\"ROC-AUC:\", roc_auc_score(y_test_binarized, xgb_model.predict_proba(X_test), multi_class='ovr'))\n"
      ],
      "metadata": {
        "id": "VmMHX7qFLFlh"
      },
      "execution_count": null,
      "outputs": []
    },
    {
      "cell_type": "code",
      "source": [
        "pip install shap\n"
      ],
      "metadata": {
        "id": "wi47j_BsLOJD"
      },
      "execution_count": null,
      "outputs": []
    },
    {
      "cell_type": "code",
      "source": [
        "import shap\n",
        "\n",
        "# Create SHAP Explainer\n",
        "explainer = shap.TreeExplainer(rf_model)\n",
        "shap_values = explainer.shap_values(X_test)\n",
        "\n",
        "# Plot Summary\n",
        "shap.summary_plot(shap_values, X_test)\n"
      ],
      "metadata": {
        "id": "FFVmxipVLOt1"
      },
      "execution_count": null,
      "outputs": []
    },
    {
      "cell_type": "code",
      "source": [
        "import joblib\n",
        "\n",
        "# Save the model\n",
        "joblib.dump(rf_model, \"mental_health_rf_model.pkl\")\n"
      ],
      "metadata": {
        "id": "BoTVHtX9LTgb"
      },
      "execution_count": null,
      "outputs": []
    },
    {
      "cell_type": "code",
      "source": [
        "import joblib\n",
        "import numpy as np\n",
        "import pandas as pd\n",
        "\n",
        "# Load the trained model\n",
        "model = joblib.load(\"mental_health_rf_model.pkl\")\n",
        "\n",
        "def predict_mental_health(symptoms):\n",
        "    \"\"\"\n",
        "    Predict mental health condition based on input symptoms.\n",
        "\n",
        "    Args:\n",
        "        symptoms (list): A list of symptom values corresponding to model features.\n",
        "\n",
        "    Returns:\n",
        "        int: Predicted mental health condition (e.g., 0 = No diagnosis, 1 = Depression).\n",
        "    \"\"\"\n",
        "    # Convert input to numpy array and reshape for model\n",
        "    symptoms_array = np.array(symptoms).reshape(1, -1)\n",
        "\n",
        "    # Make prediction\n",
        "    prediction = model.predict(symptoms_array)\n",
        "\n",
        "    return int(prediction[0])  # Convert numpy int to Python int\n",
        "\n",
        "if __name__ == \"__main__\":\n",
        "    # Example input (adjust according to your dataset's feature format)\n",
        "    example_input = [0.5, 1, 3, 2, 0, 1]  # Replace with real feature values\n",
        "    result = predict_mental_health(example_input)\n",
        "    print(f\"Predicted Mental Health Condition: {result}\")\n"
      ],
      "metadata": {
        "id": "1lHgVmhxLWEm"
      },
      "execution_count": null,
      "outputs": []
    },
    {
      "cell_type": "code",
      "source": [
        "def predict_mental_health(symptoms):\n",
        "    if len(symptoms) != 17:\n",
        "        raise ValueError(f\"Expected 17 features, but got {len(symptoms)}\")\n",
        "\n",
        "    symptoms_array = np.array(symptoms).reshape(1, -1)\n",
        "    prediction = model.predict(symptoms_array)\n",
        "\n",
        "    return int(prediction[0])\n"
      ],
      "metadata": {
        "id": "Kl1sBu8ILbal"
      },
      "execution_count": null,
      "outputs": []
    },
    {
      "cell_type": "code",
      "source": [
        "print(f\"Model was trained on {rf_model.n_features_in_} features.\")\n"
      ],
      "metadata": {
        "id": "hv1MaH1jLgcm"
      },
      "execution_count": null,
      "outputs": []
    },
    {
      "cell_type": "code",
      "source": [
        "import numpy as np\n",
        "from sklearn.ensemble import RandomForestClassifier\n",
        "from xgboost import XGBClassifier\n",
        "from sklearn.metrics import accuracy_score, classification_report, roc_auc_score\n",
        "from sklearn.model_selection import train_test_split\n",
        "\n",
        "# Ensure y is 1D and merge rare class (if applicable)\n",
        "y = np.ravel(y)  # Flatten the target variable if it's a 2D array\n",
        "\n",
        "y = np.where(y == 2, 1, y)  # Convert class 2 → class 1\n",
        "\n",
        "# Train-Test Split with Stratification\n",
        "X_train, X_test, y_train, y_test = train_test_split(\n",
        "    X, y, test_size=0.2, random_state=42, stratify=y\n",
        ")\n",
        "\n",
        "print(f\"Training feature shape: {X_train.shape}\")  # Ensure X_train has the correct feature count\n",
        "\n",
        "# ✅ Train Random Forest Model\n",
        "rf_model = RandomForestClassifier(n_estimators=100, random_state=42)\n",
        "rf_model.fit(X_train, y_train)\n",
        "rf_preds = rf_model.predict(X_test)\n",
        "rf_probs = rf_model.predict_proba(X_test)\n",
        "\n",
        "# ✅ Train XGBoost Model\n",
        "xgb_model = XGBClassifier(use_label_encoder=False, eval_metric=\"mlogloss\", random_state=42)\n",
        "xgb_model.fit(X_train, y_train)\n",
        "xgb_preds = xgb_model.predict(X_test)\n",
        "xgb_probs = xgb_model.predict_proba(X_test)\n",
        "\n",
        "# ✅ Evaluate Models\n",
        "print(\"Random Forest Results:\")\n",
        "print(classification_report(y_test, rf_preds))\n",
        "if len(np.unique(y_test)) > 1:\n",
        "    print(\"ROC-AUC:\", roc_auc_score(y_test, rf_probs[:, 1]))  # Fix: Ensure more than one class exists\n",
        "\n",
        "print(\"\\nXGBoost Results:\")\n",
        "print(classification_report(y_test, xgb_preds))\n",
        "if len(np.unique(y_test)) > 1:\n",
        "    print(\"ROC-AUC:\", roc_auc_score(y_test, xgb_probs[:, 1]))  # Fix: Ensure more than one class exists\n"
      ],
      "metadata": {
        "id": "jMFc3yRmLjV2"
      },
      "execution_count": null,
      "outputs": []
    },
    {
      "cell_type": "code",
      "source": [
        "import joblib\n",
        "\n",
        "# Save the trained Random Forest model\n",
        "joblib.dump(rf_model, 'rf_model.pkl')\n",
        "\n",
        "# Save the trained XGBoost model\n",
        "joblib.dump(xgb_model, 'xgb_model.pkl')\n"
      ],
      "metadata": {
        "id": "3OsJqyPPLnq2"
      },
      "execution_count": null,
      "outputs": []
    },
    {
      "cell_type": "code",
      "source": [
        "import shap\n",
        "\n",
        "# SHAP for Random Forest Model\n",
        "explainer_rf = shap.TreeExplainer(rf_model)\n",
        "shap_values_rf = explainer_rf.shap_values(X_test)\n",
        "\n",
        "# SHAP for XGBoost Model\n",
        "explainer_xgb = shap.TreeExplainer(xgb_model)\n",
        "shap_values_xgb = explainer_xgb.shap_values(X_test)\n",
        "\n",
        "# Visualizing SHAP summary for Random Forest Model\n",
        "shap.summary_plot(shap_values_rf, X_test)\n",
        "\n",
        "# Visualizing SHAP summary for XGBoost Model\n",
        "shap.summary_plot(shap_values_xgb, X_test)\n"
      ],
      "metadata": {
        "id": "eoO4eMAmLp3T"
      },
      "execution_count": null,
      "outputs": []
    },
    {
      "cell_type": "markdown",
      "source": [
        "Inference Script"
      ],
      "metadata": {
        "id": "eFCJfGb-LzVu"
      }
    },
    {
      "cell_type": "code",
      "source": [
        "import pandas as pd\n",
        "import joblib\n",
        "\n",
        "# Load the trained Random Forest model\n",
        "rf_model = joblib.load('rf_model.pkl')\n",
        "\n",
        "def predict_mental_health(symptom_data):\n",
        "    \"\"\"\n",
        "    Function to predict mental health diagnosis based on symptom data.\n",
        "    :param symptom_data: pandas DataFrame, should match the features used during training.\n",
        "    :return: predicted class\n",
        "    \"\"\"\n",
        "    # Ensure symptom_data is in the correct format (it must be a DataFrame)\n",
        "    prediction = rf_model.predict(symptom_data)  # Or use xgb_model.predict(symptom_data)\n",
        "    return prediction\n",
        "\n",
        "# Example usage:\n",
        "# Prepare some sample new data with the correct features\n",
        "new_data = pd.DataFrame({\n",
        "    'age': [30],  # Example: Age of the person\n",
        "    'school_year': [2],  # Example: School year (1-12)\n",
        "    'gender': [1],  # Example: 1 for male, 0 for female (or other encoding)\n",
        "    'bmi': [23],  # Example: BMI value\n",
        "    'who_bmi': ['Normal'],  # Example: WHO BMI classification ('Normal', 'Overweight', etc.)\n",
        "    'phq_score': [12],  # Example: PHQ score (for depression screening)\n",
        "    'depression_severity': [2],  # Example: Depression severity (1-5 scale)\n",
        "    'depressiveness': [3],  # Example: Level of depressiveness (1-5 scale)\n",
        "    'suicidal': [1],  # Example: 1 for suicidal thoughts, 0 for no\n",
        "    'depression_treatment': [1],  # Example: 1 for treatment, 0 for no treatment\n",
        "    'gad_score': [10],  # Example: GAD score (for anxiety)\n",
        "    'anxiety_severity': [3],  # Example: Anxiety severity (1-5 scale)\n",
        "    'anxiousness': [4],  # Example: Level of anxiousness (1-5 scale)\n",
        "    'anxiety_diagnosis': [1],  # Example: 1 for diagnosed with anxiety, 0 for not\n",
        "    'anxiety_treatment': [1],  # Example: 1 for treatment, 0 for no treatment\n",
        "    'epworth_score': [9],  # Example: Epworth score for sleepiness\n",
        "    'sleepiness': [3],  # Example: Sleepiness level (1-5 scale)\n",
        "})\n",
        "# Make the prediction\n",
        "prediction = predict_mental_health(new_data)\n",
        "print(f\"Predicted mental health diagnosis: {prediction}\")\n"
      ],
      "metadata": {
        "id": "2uCdaDlALqhC"
      },
      "execution_count": null,
      "outputs": []
    },
    {
      "cell_type": "code",
      "source": [
        "\n",
        "# Assuming X_train is your training data\n",
        "print(X_train.columns)\n"
      ],
      "metadata": {
        "id": "CIrBLPCALt-f"
      },
      "execution_count": null,
      "outputs": []
    },
    {
      "cell_type": "code",
      "source": [
        "# Assuming you have used RandomForestClassifier\n",
        "# Get the feature order from the trained model\n",
        "feature_order = X_train.columns  # X_train is the training dataset\n",
        "\n",
        "# Now ensure new_data has columns in the same order\n",
        "new_data = new_data[feature_order]\n"
      ],
      "metadata": {
        "id": "-QCoq_zkL52V"
      },
      "execution_count": null,
      "outputs": []
    },
    {
      "cell_type": "code",
      "source": [
        "Infernce Script Results"
      ],
      "metadata": {
        "id": "Z_gvXPSZMBx8"
      },
      "execution_count": null,
      "outputs": []
    },
    {
      "cell_type": "code",
      "source": [
        "import pandas as pd\n",
        "import joblib\n",
        "from sklearn.preprocessing import LabelEncoder\n",
        "\n",
        "# Load the trained Random Forest model\n",
        "rf_model = joblib.load('rf_model.pkl')\n",
        "\n",
        "# Define the exact feature order used during training\n",
        "feature_order = [\n",
        "    'school_year', 'age', 'gender', 'bmi', 'who_bmi', 'phq_score',\n",
        "    'depression_severity', 'depressiveness', 'suicidal', 'depression_treatment',\n",
        "    'gad_score', 'anxiety_severity', 'anxiousness', 'anxiety_diagnosis',\n",
        "    'anxiety_treatment', 'epworth_score', 'sleepiness'\n",
        "]\n",
        "\n",
        "# Example of new symptom data (ensure the data has the same features in the same order)\n",
        "new_data = pd.DataFrame({\n",
        "    'school_year': [2],  # Example: Year in school\n",
        "    'age': [30],  # Example: Age of the person\n",
        "    'gender': [1],  # Example: 1 for male, 0 for female\n",
        "    'bmi': [23],  # Example: BMI value\n",
        "    'who_bmi': ['Normal'],  # Example: WHO BMI category (categorical)\n",
        "    'phq_score': [12],  # Example: PHQ score\n",
        "    'depression_severity': [2],  # Example: Depression severity level\n",
        "    'depressiveness': [3],  # Example: Level of depressiveness\n",
        "    'suicidal': [1],  # Example: 1 for suicidal thoughts, 0 for no suicidal thoughts\n",
        "    'depression_treatment': [1],  # Example: 1 for treatment, 0 for no treatment\n",
        "    'gad_score': [10],  # Example: GAD score\n",
        "    'anxiety_severity': [3],  # Example: Anxiety severity level\n",
        "    'anxiousness': [4],  # Example: Level of anxiousness\n",
        "    'anxiety_diagnosis': [1],  # Example: 1 for diagnosed, 0 for not diagnosed\n",
        "    'anxiety_treatment': [1],  # Example: 1 for treatment, 0 for no treatment\n",
        "    'epworth_score': [9],  # Example: Epworth score\n",
        "    'sleepiness': [3],  # Example: Sleepiness level\n",
        "})\n",
        "\n",
        "# Initialize label encoder for 'who_bmi'\n",
        "label_encoder = LabelEncoder()\n",
        "\n",
        "# Fit and transform 'who_bmi' column to convert categorical string to numeric values\n",
        "new_data['who_bmi'] = label_encoder.fit_transform(new_data['who_bmi'])\n",
        "\n",
        "# Ensure the new data has the columns in the correct order, as the model expects\n",
        "new_data = new_data[feature_order]\n",
        "\n",
        "# Make the prediction using the trained Random Forest model\n",
        "prediction = rf_model.predict(new_data)\n",
        "\n",
        "# Output the prediction result\n",
        "print(f\"Predicted mental health diagnosis: {prediction[0]}\")\n"
      ],
      "metadata": {
        "id": "bfNe01FxL6go"
      },
      "execution_count": null,
      "outputs": []
    },
    {
      "cell_type": "code",
      "source": [
        "import pandas as pd\n",
        "import joblib\n",
        "from sklearn.preprocessing import LabelEncoder\n",
        "\n",
        "# Load the trained Random Forest model\n",
        "rf_model = joblib.load('xgb_model.pkl')\n",
        "\n",
        "# Define the exact feature order used during training\n",
        "feature_order = [\n",
        "    'school_year', 'age', 'gender', 'bmi', 'who_bmi', 'phq_score',\n",
        "    'depression_severity', 'depressiveness', 'suicidal', 'depression_treatment',\n",
        "    'gad_score', 'anxiety_severity', 'anxiousness', 'anxiety_diagnosis',\n",
        "    'anxiety_treatment', 'epworth_score', 'sleepiness'\n",
        "]\n",
        "\n",
        "# Example of new symptom data (ensure the data has the same features in the same order)\n",
        "new_data = pd.DataFrame({\n",
        "    'school_year': [2],  # Example: Year in school\n",
        "    'age': [30],  # Example: Age of the person\n",
        "    'gender': [1],  # Example: 1 for male, 0 for female\n",
        "    'bmi': [23],  # Example: BMI value\n",
        "    'who_bmi': ['Normal'],  # Example: WHO BMI category (categorical)\n",
        "    'phq_score': [12],  # Example: PHQ score\n",
        "    'depression_severity': [2],  # Example: Depression severity level\n",
        "    'depressiveness': [3],  # Example: Level of depressiveness\n",
        "    'suicidal': [1],  # Example: 1 for suicidal thoughts, 0 for no suicidal thoughts\n",
        "    'depression_treatment': [1],  # Example: 1 for treatment, 0 for no treatment\n",
        "    'gad_score': [10],  # Example: GAD score\n",
        "    'anxiety_severity': [3],  # Example: Anxiety severity level\n",
        "    'anxiousness': [4],  # Example: Level of anxiousness\n",
        "    'anxiety_diagnosis': [1],  # Example: 1 for diagnosed, 0 for not diagnosed\n",
        "    'anxiety_treatment': [1],  # Example: 1 for treatment, 0 for no treatment\n",
        "    'epworth_score': [9],  # Example: Epworth score\n",
        "    'sleepiness': [3],  # Example: Sleepiness level\n",
        "})\n",
        "\n",
        "# Initialize label encoder for 'who_bmi'\n",
        "label_encoder = LabelEncoder()\n",
        "\n",
        "# Fit and transform 'who_bmi' column to convert categorical string to numeric values\n",
        "new_data['who_bmi'] = label_encoder.fit_transform(new_data['who_bmi'])\n",
        "\n",
        "# Ensure the new data has the columns in the correct order, as the model expects\n",
        "new_data = new_data[feature_order]\n",
        "\n",
        "# Make the prediction using the trained Random Forest model\n",
        "prediction = rf_model.predict(new_data)\n",
        "\n",
        "# Output the prediction result\n",
        "print(f\"Predicted mental health diagnosis: {prediction[0]}\")\n"
      ],
      "metadata": {
        "id": "oXgN_GbaMFMQ"
      },
      "execution_count": null,
      "outputs": []
    },
    {
      "cell_type": "markdown",
      "source": [
        "1 is for depression and 0 is for no diagnosis"
      ],
      "metadata": {
        "id": "ZWnNx-NwMcn3"
      }
    },
    {
      "cell_type": "markdown",
      "source": [],
      "metadata": {
        "id": "x-EFIahiMAhL"
      }
    },
    {
      "cell_type": "markdown",
      "source": [],
      "metadata": {
        "id": "GXKvmrRWLVzv"
      }
    }
  ]
}